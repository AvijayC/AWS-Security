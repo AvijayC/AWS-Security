{
 "cells": [
  {
   "cell_type": "code",
   "execution_count": 2,
   "id": "149bb2d5",
   "metadata": {},
   "outputs": [],
   "source": [
    "import subprocess\n",
    "import base64, json"
   ]
  },
  {
   "cell_type": "code",
   "execution_count": null,
   "id": "bdf00d16",
   "metadata": {},
   "outputs": [
    {
     "name": "stderr",
     "output_type": "stream",
     "text": [
      "\n",
      "Unknown options: --sse-kms-context,username_owner=test_username_owner\n"
     ]
    },
    {
     "data": {
      "text/plain": [
       "CompletedProcess(args=['aws', 's3', 'cp', './s3-lab/abac-test-objects/example_object_1.txt', 's3://avijay-lab-2-sse-kms/upload_2.txt', '--sse', 'aws:kms', '--sse-kms-key-id', 'arn:aws:kms:us-east-1:957401190575:key/eeb497f8-c9d1-43eb-b255-6dadd262a22c', '--sse-kms-context', 'username_owner=test_username_owner'], returncode=252)"
      ]
     },
     "execution_count": 4,
     "metadata": {},
     "output_type": "execute_result"
    }
   ],
   "source": [
    "# Executing test upload with custom encryption context.\n",
    "subprocess.run(['aws', 's3', 'cp', '../../abac-test-objects/example_object_1.txt', 's3://avijay-lab-2-sse-kms/upload_2.txt',\n",
    "                '--sse', 'aws:kms',\n",
    "                '--sse-kms-key-id', 'arn:aws:kms:us-east-1:957401190575:key/eeb497f8-c9d1-43eb-b255-6dadd262a22c',\n",
    "                '--sse-kms-context', 'username_owner=test_username_owner'])"
   ]
  },
  {
   "cell_type": "code",
   "execution_count": 8,
   "id": "cd832d2a",
   "metadata": {},
   "outputs": [],
   "source": [
    "encryption_context_dict = {\n",
    "    'username_owner': 'test_username_owner'\n",
    "}\n",
    "\n",
    "b64_encryption_context_str = base64.b64encode(json.dumps(encryption_context_dict).encode('utf-8')).decode('utf-8')"
   ]
  },
  {
   "cell_type": "code",
   "execution_count": null,
   "id": "e98dc0de",
   "metadata": {},
   "outputs": [
    {
     "name": "stdout",
     "output_type": "stream",
     "text": [
      "{\n",
      "    \"ETag\": \"\\\"379cf48f7856226de7bf82abd13f25c4\\\"\",\n",
      "    \"ChecksumCRC64NVME\": \"1r5JpaEdT7E=\",\n",
      "    \"ChecksumType\": \"FULL_OBJECT\",\n",
      "    \"ServerSideEncryption\": \"aws:kms\",\n",
      "    \"SSEKMSKeyId\": \"arn:aws:kms:us-east-1:957401190575:key/eeb497f8-c9d1-43eb-b255-6dadd262a22c\",\n",
      "    \"SSEKMSEncryptionContext\": \"eyJ1c2VybmFtZV9vd25lciI6InRlc3RfdXNlcm5hbWVfb3duZXIiLCJhd3M6czM6YXJuIjoiYXJuOmF3czpzMzo6OmF2aWpheS1sYWItMi1zc2Uta21zL3VwbG9hZF8yLnR4dCJ9\"\n",
      "}\n"
     ]
    },
    {
     "data": {
      "text/plain": [
       "CompletedProcess(args=['aws', 's3api', 'put-object', '--bucket', 'avijay-lab-2-sse-kms', '--key', 'upload_2.txt', '--body', './s3-lab/abac-test-objects/example_object_1.txt', '--server-side-encryption', 'aws:kms', '--ssekms-key-id', 'arn:aws:kms:us-east-1:957401190575:key/eeb497f8-c9d1-43eb-b255-6dadd262a22c', '--ssekms-encryption-context', 'eyJ1c2VybmFtZV9vd25lciI6ICJ0ZXN0X3VzZXJuYW1lX293bmVyIn0='], returncode=0)"
      ]
     },
     "execution_count": 9,
     "metadata": {},
     "output_type": "execute_result"
    }
   ],
   "source": [
    "subprocess.run(['aws', 's3api', 'put-object', '--bucket', 'avijay-lab-2-sse-kms',\n",
    "                '--key', 'upload_2.txt',\n",
    "                '--body', '../../abac-test-objects/example_object_1.txt',\n",
    "                '--server-side-encryption', 'aws:kms',\n",
    "                '--ssekms-key-id', 'arn:aws:kms:us-east-1:957401190575:key/eeb497f8-c9d1-43eb-b255-6dadd262a22c',\n",
    "                '--ssekms-encryption-context', b64_encryption_context_str])"
   ]
  },
  {
   "cell_type": "code",
   "execution_count": 6,
   "id": "9ed2f8fe",
   "metadata": {},
   "outputs": [
    {
     "name": "stdout",
     "output_type": "stream",
     "text": [
      "download: s3://avijay-lab-2-sse-kms/upload_2.txt to ./downloaded_file.txt\n"
     ]
    },
    {
     "data": {
      "text/plain": [
       "CompletedProcess(args='aws s3 cp s3://avijay-lab-2-sse-kms/upload_2.txt ./downloaded_file.txt', returncode=0)"
      ]
     },
     "execution_count": 6,
     "metadata": {},
     "output_type": "execute_result"
    }
   ],
   "source": [
    "subprocess.run('aws s3 cp s3://avijay-lab-2-sse-kms/upload_2.txt ./downloaded_file.txt', shell=True)"
   ]
  },
  {
   "cell_type": "code",
   "execution_count": null,
   "id": "7485a20c",
   "metadata": {},
   "outputs": [],
   "source": []
  }
 ],
 "metadata": {
  "kernelspec": {
   "display_name": "Python 3",
   "language": "python",
   "name": "python3"
  },
  "language_info": {
   "codemirror_mode": {
    "name": "ipython",
    "version": 3
   },
   "file_extension": ".py",
   "mimetype": "text/x-python",
   "name": "python",
   "nbconvert_exporter": "python",
   "pygments_lexer": "ipython3",
   "version": "3.11.10"
  }
 },
 "nbformat": 4,
 "nbformat_minor": 5
}
